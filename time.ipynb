{
 "cells": [
  {
   "cell_type": "code",
   "execution_count": 29,
   "metadata": {},
   "outputs": [],
   "source": [
    "import pandas as pd\n",
    "import numpy as np\n",
    "import matplotlib.pyplot as plt\n",
    "import seaborn as sns"
   ]
  },
  {
   "cell_type": "code",
   "execution_count": 30,
   "metadata": {},
   "outputs": [],
   "source": [
    "df = pd.read_csv(r\"C:\\Users\\m_vivekanandan\\OneDrive - INFOTEL CONSEIL\\Desktop\\madmi\\python\\Time series\\DEOK_hourly.csv\")"
   ]
  },
  {
   "cell_type": "code",
   "execution_count": 31,
   "metadata": {},
   "outputs": [
    {
     "data": {
      "text/html": [
       "<div>\n",
       "<style scoped>\n",
       "    .dataframe tbody tr th:only-of-type {\n",
       "        vertical-align: middle;\n",
       "    }\n",
       "\n",
       "    .dataframe tbody tr th {\n",
       "        vertical-align: top;\n",
       "    }\n",
       "\n",
       "    .dataframe thead th {\n",
       "        text-align: right;\n",
       "    }\n",
       "</style>\n",
       "<table border=\"1\" class=\"dataframe\">\n",
       "  <thead>\n",
       "    <tr style=\"text-align: right;\">\n",
       "      <th></th>\n",
       "      <th>Datetime</th>\n",
       "      <th>DEOK_MW</th>\n",
       "    </tr>\n",
       "  </thead>\n",
       "  <tbody>\n",
       "    <tr>\n",
       "      <th>0</th>\n",
       "      <td>2012-12-31 01:00:00</td>\n",
       "      <td>2945.0</td>\n",
       "    </tr>\n",
       "    <tr>\n",
       "      <th>1</th>\n",
       "      <td>2012-12-31 02:00:00</td>\n",
       "      <td>2868.0</td>\n",
       "    </tr>\n",
       "    <tr>\n",
       "      <th>2</th>\n",
       "      <td>2012-12-31 03:00:00</td>\n",
       "      <td>2812.0</td>\n",
       "    </tr>\n",
       "    <tr>\n",
       "      <th>3</th>\n",
       "      <td>2012-12-31 04:00:00</td>\n",
       "      <td>2812.0</td>\n",
       "    </tr>\n",
       "    <tr>\n",
       "      <th>4</th>\n",
       "      <td>2012-12-31 05:00:00</td>\n",
       "      <td>2860.0</td>\n",
       "    </tr>\n",
       "    <tr>\n",
       "      <th>...</th>\n",
       "      <td>...</td>\n",
       "      <td>...</td>\n",
       "    </tr>\n",
       "    <tr>\n",
       "      <th>57734</th>\n",
       "      <td>2018-01-01 20:00:00</td>\n",
       "      <td>4426.0</td>\n",
       "    </tr>\n",
       "    <tr>\n",
       "      <th>57735</th>\n",
       "      <td>2018-01-01 21:00:00</td>\n",
       "      <td>4419.0</td>\n",
       "    </tr>\n",
       "    <tr>\n",
       "      <th>57736</th>\n",
       "      <td>2018-01-01 22:00:00</td>\n",
       "      <td>4355.0</td>\n",
       "    </tr>\n",
       "    <tr>\n",
       "      <th>57737</th>\n",
       "      <td>2018-01-01 23:00:00</td>\n",
       "      <td>4224.0</td>\n",
       "    </tr>\n",
       "    <tr>\n",
       "      <th>57738</th>\n",
       "      <td>2018-01-02 00:00:00</td>\n",
       "      <td>4100.0</td>\n",
       "    </tr>\n",
       "  </tbody>\n",
       "</table>\n",
       "<p>57739 rows × 2 columns</p>\n",
       "</div>"
      ],
      "text/plain": [
       "                  Datetime  DEOK_MW\n",
       "0      2012-12-31 01:00:00   2945.0\n",
       "1      2012-12-31 02:00:00   2868.0\n",
       "2      2012-12-31 03:00:00   2812.0\n",
       "3      2012-12-31 04:00:00   2812.0\n",
       "4      2012-12-31 05:00:00   2860.0\n",
       "...                    ...      ...\n",
       "57734  2018-01-01 20:00:00   4426.0\n",
       "57735  2018-01-01 21:00:00   4419.0\n",
       "57736  2018-01-01 22:00:00   4355.0\n",
       "57737  2018-01-01 23:00:00   4224.0\n",
       "57738  2018-01-02 00:00:00   4100.0\n",
       "\n",
       "[57739 rows x 2 columns]"
      ]
     },
     "execution_count": 31,
     "metadata": {},
     "output_type": "execute_result"
    }
   ],
   "source": [
    "df"
   ]
  },
  {
   "cell_type": "code",
   "execution_count": 32,
   "metadata": {},
   "outputs": [],
   "source": [
    "df['Datetime'] = pd.to_datetime(df['Datetime'])"
   ]
  },
  {
   "cell_type": "code",
   "execution_count": 33,
   "metadata": {},
   "outputs": [
    {
     "data": {
      "text/html": [
       "<div>\n",
       "<style scoped>\n",
       "    .dataframe tbody tr th:only-of-type {\n",
       "        vertical-align: middle;\n",
       "    }\n",
       "\n",
       "    .dataframe tbody tr th {\n",
       "        vertical-align: top;\n",
       "    }\n",
       "\n",
       "    .dataframe thead th {\n",
       "        text-align: right;\n",
       "    }\n",
       "</style>\n",
       "<table border=\"1\" class=\"dataframe\">\n",
       "  <thead>\n",
       "    <tr style=\"text-align: right;\">\n",
       "      <th></th>\n",
       "      <th>Datetime</th>\n",
       "      <th>DEOK_MW</th>\n",
       "    </tr>\n",
       "  </thead>\n",
       "  <tbody>\n",
       "    <tr>\n",
       "      <th>0</th>\n",
       "      <td>2012-12-31 01:00:00</td>\n",
       "      <td>2945.0</td>\n",
       "    </tr>\n",
       "    <tr>\n",
       "      <th>1</th>\n",
       "      <td>2012-12-31 02:00:00</td>\n",
       "      <td>2868.0</td>\n",
       "    </tr>\n",
       "    <tr>\n",
       "      <th>2</th>\n",
       "      <td>2012-12-31 03:00:00</td>\n",
       "      <td>2812.0</td>\n",
       "    </tr>\n",
       "    <tr>\n",
       "      <th>3</th>\n",
       "      <td>2012-12-31 04:00:00</td>\n",
       "      <td>2812.0</td>\n",
       "    </tr>\n",
       "    <tr>\n",
       "      <th>4</th>\n",
       "      <td>2012-12-31 05:00:00</td>\n",
       "      <td>2860.0</td>\n",
       "    </tr>\n",
       "    <tr>\n",
       "      <th>...</th>\n",
       "      <td>...</td>\n",
       "      <td>...</td>\n",
       "    </tr>\n",
       "    <tr>\n",
       "      <th>57734</th>\n",
       "      <td>2018-01-01 20:00:00</td>\n",
       "      <td>4426.0</td>\n",
       "    </tr>\n",
       "    <tr>\n",
       "      <th>57735</th>\n",
       "      <td>2018-01-01 21:00:00</td>\n",
       "      <td>4419.0</td>\n",
       "    </tr>\n",
       "    <tr>\n",
       "      <th>57736</th>\n",
       "      <td>2018-01-01 22:00:00</td>\n",
       "      <td>4355.0</td>\n",
       "    </tr>\n",
       "    <tr>\n",
       "      <th>57737</th>\n",
       "      <td>2018-01-01 23:00:00</td>\n",
       "      <td>4224.0</td>\n",
       "    </tr>\n",
       "    <tr>\n",
       "      <th>57738</th>\n",
       "      <td>2018-01-02 00:00:00</td>\n",
       "      <td>4100.0</td>\n",
       "    </tr>\n",
       "  </tbody>\n",
       "</table>\n",
       "<p>57739 rows × 2 columns</p>\n",
       "</div>"
      ],
      "text/plain": [
       "                 Datetime  DEOK_MW\n",
       "0     2012-12-31 01:00:00   2945.0\n",
       "1     2012-12-31 02:00:00   2868.0\n",
       "2     2012-12-31 03:00:00   2812.0\n",
       "3     2012-12-31 04:00:00   2812.0\n",
       "4     2012-12-31 05:00:00   2860.0\n",
       "...                   ...      ...\n",
       "57734 2018-01-01 20:00:00   4426.0\n",
       "57735 2018-01-01 21:00:00   4419.0\n",
       "57736 2018-01-01 22:00:00   4355.0\n",
       "57737 2018-01-01 23:00:00   4224.0\n",
       "57738 2018-01-02 00:00:00   4100.0\n",
       "\n",
       "[57739 rows x 2 columns]"
      ]
     },
     "execution_count": 33,
     "metadata": {},
     "output_type": "execute_result"
    }
   ],
   "source": [
    "df"
   ]
  },
  {
   "cell_type": "code",
   "execution_count": 34,
   "metadata": {},
   "outputs": [],
   "source": [
    "df.set_index('Datetime', inplace=True)"
   ]
  },
  {
   "cell_type": "code",
   "execution_count": 35,
   "metadata": {},
   "outputs": [
    {
     "data": {
      "text/html": [
       "<div>\n",
       "<style scoped>\n",
       "    .dataframe tbody tr th:only-of-type {\n",
       "        vertical-align: middle;\n",
       "    }\n",
       "\n",
       "    .dataframe tbody tr th {\n",
       "        vertical-align: top;\n",
       "    }\n",
       "\n",
       "    .dataframe thead th {\n",
       "        text-align: right;\n",
       "    }\n",
       "</style>\n",
       "<table border=\"1\" class=\"dataframe\">\n",
       "  <thead>\n",
       "    <tr style=\"text-align: right;\">\n",
       "      <th></th>\n",
       "      <th>DEOK_MW</th>\n",
       "    </tr>\n",
       "    <tr>\n",
       "      <th>Datetime</th>\n",
       "      <th></th>\n",
       "    </tr>\n",
       "  </thead>\n",
       "  <tbody>\n",
       "    <tr>\n",
       "      <th>2012-12-31 01:00:00</th>\n",
       "      <td>2945.0</td>\n",
       "    </tr>\n",
       "    <tr>\n",
       "      <th>2012-12-31 02:00:00</th>\n",
       "      <td>2868.0</td>\n",
       "    </tr>\n",
       "    <tr>\n",
       "      <th>2012-12-31 03:00:00</th>\n",
       "      <td>2812.0</td>\n",
       "    </tr>\n",
       "    <tr>\n",
       "      <th>2012-12-31 04:00:00</th>\n",
       "      <td>2812.0</td>\n",
       "    </tr>\n",
       "    <tr>\n",
       "      <th>2012-12-31 05:00:00</th>\n",
       "      <td>2860.0</td>\n",
       "    </tr>\n",
       "    <tr>\n",
       "      <th>...</th>\n",
       "      <td>...</td>\n",
       "    </tr>\n",
       "    <tr>\n",
       "      <th>2018-01-01 20:00:00</th>\n",
       "      <td>4426.0</td>\n",
       "    </tr>\n",
       "    <tr>\n",
       "      <th>2018-01-01 21:00:00</th>\n",
       "      <td>4419.0</td>\n",
       "    </tr>\n",
       "    <tr>\n",
       "      <th>2018-01-01 22:00:00</th>\n",
       "      <td>4355.0</td>\n",
       "    </tr>\n",
       "    <tr>\n",
       "      <th>2018-01-01 23:00:00</th>\n",
       "      <td>4224.0</td>\n",
       "    </tr>\n",
       "    <tr>\n",
       "      <th>2018-01-02 00:00:00</th>\n",
       "      <td>4100.0</td>\n",
       "    </tr>\n",
       "  </tbody>\n",
       "</table>\n",
       "<p>57739 rows × 1 columns</p>\n",
       "</div>"
      ],
      "text/plain": [
       "                     DEOK_MW\n",
       "Datetime                    \n",
       "2012-12-31 01:00:00   2945.0\n",
       "2012-12-31 02:00:00   2868.0\n",
       "2012-12-31 03:00:00   2812.0\n",
       "2012-12-31 04:00:00   2812.0\n",
       "2012-12-31 05:00:00   2860.0\n",
       "...                      ...\n",
       "2018-01-01 20:00:00   4426.0\n",
       "2018-01-01 21:00:00   4419.0\n",
       "2018-01-01 22:00:00   4355.0\n",
       "2018-01-01 23:00:00   4224.0\n",
       "2018-01-02 00:00:00   4100.0\n",
       "\n",
       "[57739 rows x 1 columns]"
      ]
     },
     "execution_count": 35,
     "metadata": {},
     "output_type": "execute_result"
    }
   ],
   "source": [
    "df"
   ]
  },
  {
   "cell_type": "code",
   "execution_count": 36,
   "metadata": {},
   "outputs": [
    {
     "name": "stdout",
     "output_type": "stream",
     "text": [
      "<class 'pandas.core.frame.DataFrame'>\n",
      "DatetimeIndex: 57739 entries, 2012-12-31 01:00:00 to 2018-01-02 00:00:00\n",
      "Data columns (total 1 columns):\n",
      " #   Column   Non-Null Count  Dtype  \n",
      "---  ------   --------------  -----  \n",
      " 0   DEOK_MW  57739 non-null  float64\n",
      "dtypes: float64(1)\n",
      "memory usage: 902.2 KB\n"
     ]
    }
   ],
   "source": [
    "df.info()"
   ]
  },
  {
   "cell_type": "markdown",
   "metadata": {},
   "source": [
    "adfuller test is to find the P-value"
   ]
  },
  {
   "cell_type": "code",
   "execution_count": 39,
   "metadata": {},
   "outputs": [],
   "source": [
    "from statsmodels.tsa.stattools import adfuller\n",
    "adf_test = adfuller(df['DEOK_MW'])"
   ]
  },
  {
   "cell_type": "code",
   "execution_count": 41,
   "metadata": {},
   "outputs": [
    {
     "data": {
      "text/plain": [
       "np.float64(1.4477674072053065e-27)"
      ]
     },
     "execution_count": 41,
     "metadata": {},
     "output_type": "execute_result"
    }
   ],
   "source": [
    "adf_test[1]"
   ]
  },
  {
   "cell_type": "code",
   "execution_count": 45,
   "metadata": {},
   "outputs": [
    {
     "name": "stdout",
     "output_type": "stream",
     "text": [
      "Time series is stationary\n"
     ]
    }
   ],
   "source": [
    "if adf_test[1] > 0.05:\n",
    "    time_series_diff = df['DEOK_MW'].diff().dropna()\n",
    "    print('Time series is not stationary')\n",
    "else:\n",
    "    time_series_diff = df['DEOK_MW']\n",
    "    print('Time series is stationary')\n"
   ]
  },
  {
   "cell_type": "code",
   "execution_count": 44,
   "metadata": {},
   "outputs": [
    {
     "data": {
      "text/plain": [
       "<matplotlib.legend.Legend at 0x2233dcfee70>"
      ]
     },
     "execution_count": 44,
     "metadata": {},
     "output_type": "execute_result"
    },
    {
     "data": {
      "image/png": "[encoded data removed]",
      "text/plain": [
       "<Figure size 1200x600 with 1 Axes>"
      ]
     },
     "metadata": {},
     "output_type": "display_data"
    }
   ],
   "source": [
    "# Plot the original and differenced series\n",
    "plt.figure(figsize=(12, 6))\n",
    "plt.subplot(2, 1, 1)\n",
    "plt.plot(df['DEOK_MW'], label=\"Original Time Series\")\n",
    "plt.title(\"Original Time Series\")\n",
    "plt.legend()"
   ]
  },
  {
   "cell_type": "markdown",
   "metadata": {},
   "source": [
    "Since it is a stationary time series there is no diffence B/W Original and Differenced Time Series "
   ]
  },
  {
   "cell_type": "code",
   "execution_count": 48,
   "metadata": {},
   "outputs": [
    {
     "data": {
      "image/png": "[encoded data removed]",
      "text/plain": [
       "<Figure size 640x480 with 1 Axes>"
      ]
     },
     "metadata": {},
     "output_type": "display_data"
    }
   ],
   "source": [
    "plt.subplot(2, 1, 2)\n",
    "plt.plot(time_series_diff, label=\"Differenced Time Series\")\n",
    "plt.title(\"Differenced Time Series\")\n",
    "plt.legend()\n",
    "plt.tight_layout()\n",
    "plt.show()"
   ]
  },
  {
   "cell_type": "code",
   "execution_count": 49,
   "metadata": {},
   "outputs": [
    {
     "name": "stderr",
     "output_type": "stream",
     "text": [
      "C:\\Users\\m_vivekanandan\\AppData\\Local\\Packages\\PythonSoftwareFoundation.Python.3.12_qbz5n2kfra8p0\\LocalCache\\local-packages\\Python312\\site-packages\\statsmodels\\tsa\\base\\tsa_model.py:473: ValueWarning: A date index has been provided, but it has no associated frequency information and so will be ignored when e.g. forecasting.\n",
      "  self._init_dates(dates, freq)\n",
      "C:\\Users\\m_vivekanandan\\AppData\\Local\\Packages\\PythonSoftwareFoundation.Python.3.12_qbz5n2kfra8p0\\LocalCache\\local-packages\\Python312\\site-packages\\statsmodels\\tsa\\base\\tsa_model.py:473: ValueWarning: A date index has been provided, but it is not monotonic and so will be ignored when e.g. forecasting.\n",
      "  self._init_dates(dates, freq)\n",
      "C:\\Users\\m_vivekanandan\\AppData\\Local\\Packages\\PythonSoftwareFoundation.Python.3.12_qbz5n2kfra8p0\\LocalCache\\local-packages\\Python312\\site-packages\\statsmodels\\tsa\\base\\tsa_model.py:473: ValueWarning: A date index has been provided, but it has no associated frequency information and so will be ignored when e.g. forecasting.\n",
      "  self._init_dates(dates, freq)\n",
      "C:\\Users\\m_vivekanandan\\AppData\\Local\\Packages\\PythonSoftwareFoundation.Python.3.12_qbz5n2kfra8p0\\LocalCache\\local-packages\\Python312\\site-packages\\statsmodels\\tsa\\base\\tsa_model.py:473: ValueWarning: A date index has been provided, but it is not monotonic and so will be ignored when e.g. forecasting.\n",
      "  self._init_dates(dates, freq)\n",
      "C:\\Users\\m_vivekanandan\\AppData\\Local\\Packages\\PythonSoftwareFoundation.Python.3.12_qbz5n2kfra8p0\\LocalCache\\local-packages\\Python312\\site-packages\\statsmodels\\tsa\\base\\tsa_model.py:473: ValueWarning: A date index has been provided, but it has no associated frequency information and so will be ignored when e.g. forecasting.\n",
      "  self._init_dates(dates, freq)\n",
      "C:\\Users\\m_vivekanandan\\AppData\\Local\\Packages\\PythonSoftwareFoundation.Python.3.12_qbz5n2kfra8p0\\LocalCache\\local-packages\\Python312\\site-packages\\statsmodels\\tsa\\base\\tsa_model.py:473: ValueWarning: A date index has been provided, but it is not monotonic and so will be ignored when e.g. forecasting.\n",
      "  self._init_dates(dates, freq)\n",
      "C:\\Users\\m_vivekanandan\\AppData\\Local\\Packages\\PythonSoftwareFoundation.Python.3.12_qbz5n2kfra8p0\\LocalCache\\local-packages\\Python312\\site-packages\\statsmodels\\tsa\\statespace\\sarimax.py:966: UserWarning: Non-stationary starting autoregressive parameters found. Using zeros as starting parameters.\n",
      "  warn('Non-stationary starting autoregressive parameters'\n",
      "C:\\Users\\m_vivekanandan\\AppData\\Local\\Packages\\PythonSoftwareFoundation.Python.3.12_qbz5n2kfra8p0\\LocalCache\\local-packages\\Python312\\site-packages\\statsmodels\\tsa\\statespace\\sarimax.py:978: UserWarning: Non-invertible starting MA parameters found. Using zeros as starting parameters.\n",
      "  warn('Non-invertible starting MA parameters found.'\n"
     ]
    }
   ],
   "source": [
    "from statsmodels.tsa.arima.model import ARIMA\n",
    "\n",
    "# Train an ARIMA model\n",
    "arima_model = ARIMA(time_series_diff, order=(2, 1, 2))  # (p,d,q) parameters\n",
    "arima_result = arima_model.fit()"
   ]
  },
  {
   "cell_type": "code",
   "execution_count": 50,
   "metadata": {},
   "outputs": [
    {
     "data": {
      "text/html": [
       "<table class=\"simpletable\">\n",
       "<caption>SARIMAX Results</caption>\n",
       "<tr>\n",
       "  <th>Dep. Variable:</th>        <td>DEOK_MW</td>     <th>  No. Observations:  </th>    <td>57739</td>   \n",
       "</tr>\n",
       "<tr>\n",
       "  <th>Model:</th>            <td>ARIMA(2, 1, 2)</td>  <th>  Log Likelihood     </th> <td>-349860.104</td>\n",
       "</tr>\n",
       "<tr>\n",
       "  <th>Date:</th>            <td>Wed, 15 Jan 2025</td> <th>  AIC                </th> <td>699730.208</td> \n",
       "</tr>\n",
       "<tr>\n",
       "  <th>Time:</th>                <td>12:07:34</td>     <th>  BIC                </th> <td>699775.026</td> \n",
       "</tr>\n",
       "<tr>\n",
       "  <th>Sample:</th>                  <td>0</td>        <th>  HQIC               </th> <td>699744.154</td> \n",
       "</tr>\n",
       "<tr>\n",
       "  <th></th>                     <td> - 57739</td>     <th>                     </th>      <td> </td>     \n",
       "</tr>\n",
       "<tr>\n",
       "  <th>Covariance Type:</th>        <td>opg</td>       <th>                     </th>      <td> </td>     \n",
       "</tr>\n",
       "</table>\n",
       "<table class=\"simpletable\">\n",
       "<tr>\n",
       "     <td></td>       <th>coef</th>     <th>std err</th>      <th>z</th>      <th>P>|z|</th>  <th>[0.025</th>    <th>0.975]</th>  \n",
       "</tr>\n",
       "<tr>\n",
       "  <th>ar.L1</th>  <td>    1.7893</td> <td>    0.003</td> <td>  655.044</td> <td> 0.000</td> <td>    1.784</td> <td>    1.795</td>\n",
       "</tr>\n",
       "<tr>\n",
       "  <th>ar.L2</th>  <td>   -0.8684</td> <td>    0.003</td> <td> -324.222</td> <td> 0.000</td> <td>   -0.874</td> <td>   -0.863</td>\n",
       "</tr>\n",
       "<tr>\n",
       "  <th>ma.L1</th>  <td>   -1.3702</td> <td>    0.004</td> <td> -344.619</td> <td> 0.000</td> <td>   -1.378</td> <td>   -1.362</td>\n",
       "</tr>\n",
       "<tr>\n",
       "  <th>ma.L2</th>  <td>    0.3957</td> <td>    0.004</td> <td>   99.447</td> <td> 0.000</td> <td>    0.388</td> <td>    0.404</td>\n",
       "</tr>\n",
       "<tr>\n",
       "  <th>sigma2</th> <td> 1.073e+04</td> <td>   23.092</td> <td>  464.744</td> <td> 0.000</td> <td> 1.07e+04</td> <td> 1.08e+04</td>\n",
       "</tr>\n",
       "</table>\n",
       "<table class=\"simpletable\">\n",
       "<tr>\n",
       "  <th>Ljung-Box (L1) (Q):</th>     <td>74.79</td> <th>  Jarque-Bera (JB):  </th> <td>594868.83</td>\n",
       "</tr>\n",
       "<tr>\n",
       "  <th>Prob(Q):</th>                <td>0.00</td>  <th>  Prob(JB):          </th>   <td>0.00</td>   \n",
       "</tr>\n",
       "<tr>\n",
       "  <th>Heteroskedasticity (H):</th> <td>0.99</td>  <th>  Skew:              </th>   <td>-0.39</td>  \n",
       "</tr>\n",
       "<tr>\n",
       "  <th>Prob(H) (two-sided):</th>    <td>0.62</td>  <th>  Kurtosis:          </th>   <td>18.71</td>  \n",
       "</tr>\n",
       "</table><br/><br/>Warnings:<br/>[1] Covariance matrix calculated using the outer product of gradients (complex-step)."
      ],
      "text/latex": [
       "\\begin{center}\n",
       "\\begin{tabular}{lclc}\n",
       "\\toprule\n",
       "\\textbf{Dep. Variable:}          &     DEOK\\_MW     & \\textbf{  No. Observations:  } &    57739     \\\\\n",
       "\\textbf{Model:}                  &  ARIMA(2, 1, 2)  & \\textbf{  Log Likelihood     } & -349860.104  \\\\\n",
       "\\textbf{Date:}                   & Wed, 15 Jan 2025 & \\textbf{  AIC                } &  699730.208  \\\\\n",
       "\\textbf{Time:}                   &     12:07:34     & \\textbf{  BIC                } &  699775.026  \\\\\n",
       "\\textbf{Sample:}                 &        0         & \\textbf{  HQIC               } &  699744.154  \\\\\n",
       "\\textbf{}                        &      - 57739     & \\textbf{                     } &              \\\\\n",
       "\\textbf{Covariance Type:}        &       opg        & \\textbf{                     } &              \\\\\n",
       "\\bottomrule\n",
       "\\end{tabular}\n",
       "\\begin{tabular}{lcccccc}\n",
       "                & \\textbf{coef} & \\textbf{std err} & \\textbf{z} & \\textbf{P$> |$z$|$} & \\textbf{[0.025} & \\textbf{0.975]}  \\\\\n",
       "\\midrule\n",
       "\\textbf{ar.L1}  &       1.7893  &        0.003     &   655.044  &         0.000        &        1.784    &        1.795     \\\\\n",
       "\\textbf{ar.L2}  &      -0.8684  &        0.003     &  -324.222  &         0.000        &       -0.874    &       -0.863     \\\\\n",
       "\\textbf{ma.L1}  &      -1.3702  &        0.004     &  -344.619  &         0.000        &       -1.378    &       -1.362     \\\\\n",
       "\\textbf{ma.L2}  &       0.3957  &        0.004     &    99.447  &         0.000        &        0.388    &        0.404     \\\\\n",
       "\\textbf{sigma2} &    1.073e+04  &       23.092     &   464.744  &         0.000        &     1.07e+04    &     1.08e+04     \\\\\n",
       "\\bottomrule\n",
       "\\end{tabular}\n",
       "\\begin{tabular}{lclc}\n",
       "\\textbf{Ljung-Box (L1) (Q):}     & 74.79 & \\textbf{  Jarque-Bera (JB):  } & 594868.83  \\\\\n",
       "\\textbf{Prob(Q):}                &  0.00 & \\textbf{  Prob(JB):          } &    0.00    \\\\\n",
       "\\textbf{Heteroskedasticity (H):} &  0.99 & \\textbf{  Skew:              } &   -0.39    \\\\\n",
       "\\textbf{Prob(H) (two-sided):}    &  0.62 & \\textbf{  Kurtosis:          } &   18.71    \\\\\n",
       "\\bottomrule\n",
       "\\end{tabular}\n",
       "%\\caption{SARIMAX Results}\n",
       "\\end{center}\n",
       "\n",
       "Warnings: \\newline\n",
       " [1] Covariance matrix calculated using the outer product of gradients (complex-step)."
      ],
      "text/plain": [
       "<class 'statsmodels.iolib.summary.Summary'>\n",
       "\"\"\"\n",
       "                               SARIMAX Results                                \n",
       "==============================================================================\n",
       "Dep. Variable:                DEOK_MW   No. Observations:                57739\n",
       "Model:                 ARIMA(2, 1, 2)   Log Likelihood             -349860.104\n",
       "Date:                Wed, 15 Jan 2025   AIC                         699730.208\n",
       "Time:                        12:07:34   BIC                         699775.026\n",
       "Sample:                             0   HQIC                        699744.154\n",
       "                              - 57739                                         \n",
       "Covariance Type:                  opg                                         \n",
       "==============================================================================\n",
       "                 coef    std err          z      P>|z|      [0.025      0.975]\n",
       "------------------------------------------------------------------------------\n",
       "ar.L1          1.7893      0.003    655.044      0.000       1.784       1.795\n",
       "ar.L2         -0.8684      0.003   -324.222      0.000      -0.874      -0.863\n",
       "ma.L1         -1.3702      0.004   -344.619      0.000      -1.378      -1.362\n",
       "ma.L2          0.3957      0.004     99.447      0.000       0.388       0.404\n",
       "sigma2      1.073e+04     23.092    464.744      0.000    1.07e+04    1.08e+04\n",
       "===================================================================================\n",
       "Ljung-Box (L1) (Q):                  74.79   Jarque-Bera (JB):            594868.83\n",
       "Prob(Q):                              0.00   Prob(JB):                         0.00\n",
       "Heteroskedasticity (H):               0.99   Skew:                            -0.39\n",
       "Prob(H) (two-sided):                  0.62   Kurtosis:                        18.71\n",
       "===================================================================================\n",
       "\n",
       "Warnings:\n",
       "[1] Covariance matrix calculated using the outer product of gradients (complex-step).\n",
       "\"\"\""
      ]
     },
     "execution_count": 50,
     "metadata": {},
     "output_type": "execute_result"
    }
   ],
   "source": [
    "# Summary of the model\n",
    "arima_result.summary()"
   ]
  }
 ],
 "metadata": {
  "kernelspec": {
   "display_name": "Python 3",
   "language": "python",
   "name": "python3"
  },
  "language_info": {
   "codemirror_mode": {
    "name": "ipython",
    "version": 3
   },
   "file_extension": ".py",
   "mimetype": "text/x-python",
   "name": "python",
   "nbconvert_exporter": "python",
   "pygments_lexer": "ipython3",
   "version": "3.12.8"
  }
 },
 "nbformat": 4,
 "nbformat_minor": 2
}
